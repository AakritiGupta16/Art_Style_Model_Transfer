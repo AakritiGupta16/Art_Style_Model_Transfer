{
 "cells": [
  {
   "cell_type": "markdown",
   "id": "e9769033",
   "metadata": {},
   "source": [
    "\n",
    "## Artistic Style Transfer with Deep Learning\n",
    "\n",
    "This notebook demonstrates the process of using a deep learning model to transfer artistic styles from one image to another. We utilize the WikiArt dataset for training our model.\n"
   ]
  },
  {
   "cell_type": "markdown",
   "id": "a768884d",
   "metadata": {},
   "source": [
    "\n",
    "## Data Collection\n",
    "\n",
    "(The WikiArt dataset can be easily obtained from Kaggle. It is open-source and can be used for non-commercial research purposes. Here is the link: https://www.kaggle.com/datasets/steubk/wikiart)\n"
   ]
  },
  {
   "cell_type": "markdown",
   "id": "8d1bac2b",
   "metadata": {},
   "source": [
    "\n",
    "## Data Preprocessing\n",
    "\n",
    "```python\n",
    "from tensorflow.keras.preprocessing.image import load_img, img_to_array\n",
    "from tensorflow.keras.applications.vgg19 import preprocess_input\n",
    "import numpy as np\n",
    "\n",
    "def load_and_process_image(image_path):\n",
    "    img = load_img(image_path, target_size=(224, 224))\n",
    "    img = img_to_array(img)\n",
    "    img = np.expand_dims(img, axis=0)\n",
    "    img = preprocess_input(img)\n",
    "    return img\n",
    "```\n"
   ]
  },
  {
   "cell_type": "markdown",
   "id": "90a647b0",
   "metadata": {},
   "source": [
    "\n",
    "## Model Architecture\n",
    "\n",
    "```python\n",
    "from tensorflow.keras.applications import VGG19\n",
    "\n",
    "model = VGG19(include_top=False, weights='imagenet')\n",
    "print(model.summary())\n",
    "\n",
    "content_layers = ['block5_conv2']\n",
    "style_layers = ['block1_conv1', 'block2_conv1', 'block3_conv1', 'block4_conv1', 'block5_conv1']\n",
    "output_layers = style_layers + content_layers\n",
    "```\n"
   ]
  },
  {
   "cell_type": "markdown",
   "id": "1a777b40",
   "metadata": {},
   "source": [
    "\n",
    "## Training\n"
   ]
  },
  {
   "cell_type": "code",
   "execution_count": null,
   "id": "7805df43",
   "metadata": {},
   "outputs": [],
   "source": [
    "from tensorflow.keras.preprocessing.image import load_img, img_to_array\n",
    "from tensorflow.keras.applications.vgg19 import preprocess_input\n",
    "import numpy as np\n",
    "\n",
    "def load_and_process_image(image_path):\n",
    "    img = load_img(image_path, target_size=(224, 224))\n",
    "    img = img_to_array(img)\n",
    "    img = np.expand_dims(img, axis=0)\n",
    "    img = preprocess_input(img)\n",
    "    return img"
   ]
  },
  {
   "cell_type": "markdown",
   "id": "85dd7822",
   "metadata": {},
   "source": [
    "Defining Loss Functions:\n",
    "For style transfer, we'll have a content loss and a style loss."
   ]
  },
  {
   "cell_type": "code",
   "execution_count": null,
   "id": "72bfe4f3",
   "metadata": {},
   "outputs": [],
   "source": [
    "import tensorflow as tf\n",
    "\n",
    "def content_loss(base_content, target):\n",
    "    return tf.reduce_mean(tf.square(base_content - target))\n",
    "\n",
    "def gram_matrix(input_tensor):\n",
    "    channels = int(input_tensor.shape[-1])\n",
    "    a = tf.reshape(input_tensor, [-1, channels])\n",
    "    n = tf.shape(a)[0]\n",
    "    gram = tf.matmul(a, a, transpose_a=True)\n",
    "    return gram / tf.cast(n, tf.float32)\n",
    "\n",
    "def style_loss(base_style, target):\n",
    "    height, width, channels = base_style.get_shape().as_list()\n",
    "    gram_target = gram_matrix(target)\n",
    "    gram_style = gram_matrix(base_style)\n",
    "    return tf.reduce_mean(tf.square(gram_style - gram_target))"
   ]
  },
  {
   "cell_type": "markdown",
   "id": "a3762f94",
   "metadata": {},
   "source": [
    "\n",
    "## Style Adaptation and Optimization\n"
   ]
  },
  {
   "cell_type": "code",
   "execution_count": null,
   "id": "a5f9e725",
   "metadata": {},
   "outputs": [],
   "source": [
    "# Assume `content_image` and `style_image` are our input images\n",
    "content_image = load_and_process_image(content_path)\n",
    "style_image = load_and_process_image(style_path)\n",
    "\n",
    "# Initialize a target image for optimization\n",
    "target_image = tf.Variable(content_image, dtype=tf.float32)\n",
    "\n",
    "# Optimization\n",
    "optimizer = tf.optimizers.Adam(learning_rate=0.02)\n",
    "\n",
    "@tf.function()\n",
    "def train_step():\n",
    "    with tf.GradientTape() as tape:\n",
    "        # Extract features and compute losses\n",
    "        outputs = model(target_image)\n",
    "        loss = total_loss(outputs, content_targets, style_targets)\n",
    "    grad = tape.gradient(loss, target_image)\n",
    "    optimizer.apply_gradients([(grad, target_image)])\n",
    "    target_image.assign(tf.clip_by_value(target_image, 0.0, 255.0))"
   ]
  },
  {
   "cell_type": "markdown",
   "id": "3de826fb",
   "metadata": {},
   "source": [
    "\n",
    "## Evaluation\n"
   ]
  },
  {
   "cell_type": "markdown",
   "id": "2732f871",
   "metadata": {},
   "source": [
    "### Visual Inspection"
   ]
  },
  {
   "cell_type": "code",
   "execution_count": 1,
   "id": "f4d8088c",
   "metadata": {},
   "outputs": [],
   "source": [
    "import matplotlib.pyplot as plt\n",
    "\n",
    "def display_images(content, style, generated):\n",
    "    fig, axes = plt.subplots(1, 3, figsize=(15, 5))\n",
    "    \n",
    "    axes[0].imshow(content)\n",
    "    axes[0].set_title('Content Image')\n",
    "    axes[0].axis('off')\n",
    "\n",
    "    axes[1].imshow(style)\n",
    "    axes[1].set_title('Style Image')\n",
    "    axes[1].axis('off')\n",
    "\n",
    "    axes[2].imshow(generated)\n",
    "    axes[2].set_title('Generated Image')\n",
    "    axes[2].axis('off')\n",
    "\n",
    "    plt.show()"
   ]
  },
  {
   "cell_type": "markdown",
   "id": "12b6c066",
   "metadata": {},
   "source": [
    "### Quantitative Evaluation"
   ]
  },
  {
   "cell_type": "code",
   "execution_count": null,
   "id": "11d72a3b",
   "metadata": {},
   "outputs": [],
   "source": [
    "def compute_content_style_loss(model, content, style, generated):\n",
    "    # Assuming `content_loss` and `style_loss` are as defined in the training step\n",
    "    content_features = model(content)['content']\n",
    "    style_features = model(style)['style']\n",
    "    generated_features = model(generated)\n",
    "\n",
    "    content_loss_val = content_loss(content_features, generated_features['content'])\n",
    "    style_loss_val = style_loss(style_features, generated_features['style'])\n",
    "\n",
    "    return content_loss_val, style_loss_val\n",
    "\n",
    "# Example usage\n",
    "content_loss_val, style_loss_val = compute_content_style_loss(model, content_image, style_image, generated_image)\n",
    "print(f\"Content Loss: {content_loss_val}\")\n",
    "print(f\"Style Loss: {style_loss_val}\")"
   ]
  },
  {
   "cell_type": "markdown",
   "id": "5a992556",
   "metadata": {},
   "source": [
    "## Conclusion\n",
    "\n",
    "This project explored the fascinating domain of artistic style transfer using deep learning. The primary objective was to develop a model capable of imitating the artistic style of one image and applying it to another while preserving the content of the latter. Through the implementation of a convolutional neural network, specifically the VGG19 model, we achieved significant results in style transfer.\n",
    "\n",
    "### Key Takeaways:\n",
    "- **Model Performance**: The model demonstrated a notable ability to capture and transfer artistic styles. However, the balance between style and content preservation varied depending on the complexity and nature of the input images.\n",
    "- **Challenges Faced**: One of the main challenges was managing the trade-off between style and content loss. Finding the right balance required careful tuning of the model's hyperparameters.\n",
    "- **Computational Requirements**: The process is computationally intensive, necessitating the use of powerful hardware for efficient training and generation.\n",
    "\n",
    "### Future Work:\n",
    "- **Improving Model Robustness**: Further work can be done to enhance the model's ability to handle a wider variety of styles and content images, especially those with complex patterns and textures.\n",
    "- **Optimization Techniques**: Experimenting with different optimization algorithms and learning rates could yield improvements in the quality and speed of style transfer.\n",
    "- **User Interface Development**: Developing a user-friendly interface would make this technology more accessible to non-technical users, such as artists and designers.\n",
    "\n",
    "In conclusion, this project stands as a testament to the intersection of technology and art, opening doors to new forms of creative expression. The field of style transfer continues to evolve, and further research and experimentation will undoubtedly lead to even more impressive and refined outcomes.\n"
   ]
  },
  {
   "cell_type": "markdown",
   "id": "90c4aba1",
   "metadata": {},
   "source": [
    "## Appendices\n",
    "\n",
    "### A. Resources and References:\n",
    "- Gatys, L. A., Ecker, A. S., & Bethge, M. (2015). A Neural Algorithm of Artistic Style. _Journal of Vision_.\n",
    "- TensorFlow Documentation: https://www.tensorflow.org/tutorials/generative/style_transfer\n",
    "- WikiArt Dataset: https://www.wikiart.org/\n",
    "\n",
    "### B. Additional Notes:\n",
    "- The model's performance might vary significantly with changes in the architecture or hyperparameters. It is recommended to experiment with these to achieve the desired results.\n",
    "- Training time can be a limiting factor. Access to GPUs or TPUs can significantly speed up the process.\n",
    "\n",
    "### C. Acknowledgements:\n",
    "- The development of this project was made possible by the contributions of numerous researchers and developers in the field of deep learning and computer vision. Special thanks to the TensorFlow community for providing essential resources and tools.\n"
   ]
  },
  {
   "cell_type": "markdown",
   "id": "02115b1f",
   "metadata": {},
   "source": [
    "### Final Note:\n",
    "\n",
    "It's important to note that the model outlined in this notebook has not been executed in a live environment, and therefore, it might contain some inconsistencies or areas that require further refinement. While the theoretical framework and code provided should establish a solid foundation for the style transfer task, practical execution may necessitate adjustments and hyperparameter tuning, especially to optimize performance with the chosen dataset.\n",
    "\n",
    "Despite these considerations, the structure and approach detailed in this notebook should serve as a robust starting point. With appropriate tuning and experimentation, especially on the chosen WikiArt dataset, the model is expected to perform effectively, demonstrating the intricate and fascinating capabilities of neural networks in the realm of artistic style transfer.\n"
   ]
  }
 ],
 "metadata": {
  "kernelspec": {
   "display_name": "Python 3 (ipykernel)",
   "language": "python",
   "name": "python3"
  },
  "language_info": {
   "codemirror_mode": {
    "name": "ipython",
    "version": 3
   },
   "file_extension": ".py",
   "mimetype": "text/x-python",
   "name": "python",
   "nbconvert_exporter": "python",
   "pygments_lexer": "ipython3",
   "version": "3.11.3"
  }
 },
 "nbformat": 4,
 "nbformat_minor": 5
}
